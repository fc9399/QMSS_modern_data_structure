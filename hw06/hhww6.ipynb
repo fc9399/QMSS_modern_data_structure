{
 "cells": [
  {
   "cell_type": "markdown",
   "metadata": {},
   "source": [
    "# QMSS G5072 Homework 6\n",
    "### Professor Thomas Brambor\n",
    "\n",
    "## Tic-Tac-Toe Testing Exercise\n",
    "\n",
    "In this exercise, you will use `pytest` to create and test functions that manage the state of a Tic-Tac-Toe game. You will implement functions to initialize the game board, make moves, check for a win or a draw, and reset the game.\n",
    "\n",
    "Below are the definitions of the `initialize_board`, `make_move`, `check_winner`, and `reset_game` functions you'll be working with:\n",
    "\n",
    "```python\n",
    "def initialize_board():\n",
    "    \"\"\"Creates a 3x3 Tic-Tac-Toe board initialized with empty spaces.\"\"\"\n",
    "    return [[' ' for _ in range(3)] for _ in range(3)]\n",
    "\n",
    "def make_move(board, row, col, player):\n",
    "    \"\"\"\n",
    "    Places the player's symbol ('X' or 'O') on the board at the specified position.\n",
    "    \n",
    "    Args:\n",
    "        board (list): The current game board.\n",
    "        row (int): The row index (0-based).\n",
    "        col (int): The column index (0-based).\n",
    "        player (str): The player's symbol ('X' or 'O').\n",
    "\n",
    "    Returns:\n",
    "        bool: True if the move was successful, False otherwise.\n",
    "    \"\"\"\n",
    "    if board[row][col] == ' ':\n",
    "        board[row][col] = player\n",
    "        return True\n",
    "    return False\n",
    "\n",
    "def check_winner(board):\n",
    "    \"\"\"\n",
    "    Checks the current board for a winner.\n",
    "\n",
    "    Args:\n",
    "        board (list): The current game board.\n",
    "\n",
    "    Returns:\n",
    "        str: 'X' or 'O' if there is a winner, 'Draw' if it's a draw, or None if the game is ongoing.\n",
    "    \"\"\"\n",
    "    # Check rows, columns, and diagonals\n",
    "    lines = board + list(zip(*board))  # Rows and columns\n",
    "    lines.append([board[i][i] for i in range(3)])  # Main diagonal\n",
    "    lines.append([board[i][2-i] for i in range(3)])  # Anti-diagonal\n",
    "\n",
    "    for line in lines:\n",
    "        if all(cell == 'X' for cell in line):\n",
    "            return 'X'\n",
    "        if all(cell == 'O' for cell in line):\n",
    "            return 'O'\n",
    "    \n",
    "    # Check for draw\n",
    "    if all(cell != ' ' for row in board for cell in row):\n",
    "        return 'Draw'\n",
    "    \n",
    "    return None\n",
    "\n",
    "def reset_game():\n",
    "    \"\"\"Resets the game by reinitializing the board.\"\"\"\n",
    "    return initialize_board()\n",
    "```\n",
    "\n",
    "### 1. Test the `initialize_board`, `make_move`, `check_winner`, and `reset_game` Functions\n",
    "\n",
    "#### a) Write a test function `test_initialize_board` that verifies the `initialize_board` function creates an empty 3x3 board.\n"
   ]
  },
  {
   "cell_type": "code",
   "execution_count": 1,
   "metadata": {},
   "outputs": [],
   "source": [
    "# I will put the given function before my own testing function just for better comparison and readability\n",
    "# Given functions 'initialize_board()' \n",
    "def initialize_board():\n",
    "    \"\"\"Creates a 3x3 Tic-Tac-Toe board initialized with empty spaces.\"\"\"\n",
    "    return [[' ' for _ in range(3)] for _ in range(3)]"
   ]
  },
  {
   "cell_type": "code",
   "execution_count": 17,
   "metadata": {},
   "outputs": [],
   "source": [
    "# Write a test function `test_initialize_board` that verifies the `initialize_board` function creates an empty 3x3 board.\n",
    "def test_initialize_board():\n",
    "    \"\"\"Write a test function `test_initialize_board` that verifies the `initialize_board` function creates an empty 3x3 board.\"\"\"\n",
    "    board = initialize_board()\n",
    "    assert len(board) == 3  # Check if number of rows = 3\n",
    "    assert all(len(row) == 3 for row in board)  # Check the number of columns in each row\n",
    "    assert all(cell == ' ' for row in board for cell in row)  # Check if all cells are empty\n"
   ]
  },
  {
   "cell_type": "markdown",
   "metadata": {},
   "source": [
    "#### b) Write a test function `test_make_move_valid` that checks whether make_move successfully places a player’s symbol on an empty cell. Test this for both players ‘X’ and ‘O’.\n",
    "\n",
    "_Hint:_ start with a pre-specified board configuration and then add a valid move (using the `make_move()` function), assuring that is done correctly."
   ]
  },
  {
   "cell_type": "code",
   "execution_count": 6,
   "metadata": {},
   "outputs": [],
   "source": [
    "# Given function 'make_move()'\n",
    "def make_move(board, row, col, player):\n",
    "    \"\"\"\n",
    "    Places the player's symbol ('X' or 'O') on the board at the specified position.\n",
    "    \n",
    "    Args:\n",
    "        board (list): The current game board.\n",
    "        row (int): The row index (0-based).\n",
    "        col (int): The column index (0-based).\n",
    "        player (str): The player's symbol ('X' or 'O').\n",
    "\n",
    "    Returns:\n",
    "        bool: True if the move was successful, False otherwise.\n",
    "    \"\"\"\n",
    "    if board[row][col] == ' ':\n",
    "        board[row][col] = player\n",
    "        return True\n",
    "    return False"
   ]
  },
  {
   "cell_type": "code",
   "execution_count": 16,
   "metadata": {},
   "outputs": [],
   "source": [
    "# Create a test function `test_make_move_valid` that checks whether make_move successfully places a player’s symbol on an empty cell.\n",
    "def test_make_move_valid():\n",
    "    \"\"\"Create a test function `test_make_move_valid` that checks whether make_move successfully places a player’s symbol on an empty cell.\"\"\"\n",
    "    board = initialize_board()\n",
    "    assert make_move(board, 0, 0, 'X')  # Make a valid move with X\n",
    "    assert board[0][0] == 'X'  # Check that 'X' is placed correctly\n",
    "    assert make_move(board, 1, 1, 'O')  # Make another valid move with O\n",
    "    assert board[1][1] == 'O'  # Check that 'O' is placed correctly"
   ]
  },
  {
   "cell_type": "markdown",
   "metadata": {},
   "source": [
    "#### c) Write a test function `test_make_move_invalid` that ensures `make_move` does not overwrite an occupied cell and returns `False` when attempting to do so."
   ]
  },
  {
   "cell_type": "code",
   "execution_count": 15,
   "metadata": {},
   "outputs": [],
   "source": [
    "# Create a test function `test_make_move_invalid` that ensures `make_move` does not overwrite an occupied cell and returns `False` when attempting to do so\n",
    "def test_make_move_invalid():\n",
    "    \"\"\"Create a test function `test_make_move_invalid` that ensures `make_move` does not overwrite an occupied cell and returns `False` when attempting to do so\"\"\"\n",
    "    board = initialize_board()\n",
    "    make_move(board, 0, 0, 'X')  # Place 'X' in an empty cell\n",
    "    result = make_move(board, 0, 0, 'O')  # Attempt to overwrite the occupied cell\n",
    "    assert not result  # Ensure that the move was unsuccessful\n",
    "    assert board[0][0] == 'X'  # Confirm that 'X' remains in that cell"
   ]
  },
  {
   "cell_type": "markdown",
   "metadata": {},
   "source": [
    "#### d) Write an integration test `test_game_integration` that performs a series of operations: initializing the board, making multiple moves, checking for a winner, and resetting the game. After each operation, verify the state of the board and the game status (i.e. if there is a winner).\n"
   ]
  },
  {
   "cell_type": "code",
   "execution_count": 11,
   "metadata": {},
   "outputs": [],
   "source": [
    "# Show the given related functions\n",
    "def initialize_board():\n",
    "    \"\"\"Creates a 3x3 Tic-Tac-Toe board initialized with empty spaces.\"\"\"\n",
    "    return [[' ' for _ in range(3)] for _ in range(3)]\n",
    "\n",
    "def make_move(board, row, col, player):\n",
    "    \"\"\"\n",
    "    Places the player's symbol ('X' or 'O') on the board at the specified position.\n",
    "    \n",
    "    Args:\n",
    "        board (list): The current game board.\n",
    "        row (int): The row index (0-based).\n",
    "        col (int): The column index (0-based).\n",
    "        player (str): The player's symbol ('X' or 'O').\n",
    "\n",
    "    Returns:\n",
    "        bool: True if the move was successful, False otherwise.\n",
    "    \"\"\"\n",
    "    if board[row][col] == ' ':\n",
    "        board[row][col] = player\n",
    "        return True\n",
    "    return False\n",
    "\n",
    "def check_winner(board):\n",
    "    \"\"\"\n",
    "    Checks the current board for a winner.\n",
    "\n",
    "    Args:\n",
    "        board (list): The current game board.\n",
    "\n",
    "    Returns:\n",
    "        str: 'X' or 'O' if there is a winner, 'Draw' if it's a draw, or None if the game is ongoing.\n",
    "    \"\"\"\n",
    "    # Check rows, columns, and diagonals\n",
    "    lines = board + list(zip(*board))  # Rows and columns\n",
    "    lines.append([board[i][i] for i in range(3)])  # Main diagonal\n",
    "    lines.append([board[i][2-i] for i in range(3)])  # Anti-diagonal\n",
    "\n",
    "    for line in lines:\n",
    "        if all(cell == 'X' for cell in line):\n",
    "            return 'X'\n",
    "        if all(cell == 'O' for cell in line):\n",
    "            return 'O'\n",
    "    \n",
    "    # Check for draw\n",
    "    if all(cell != ' ' for row in board for cell in row):\n",
    "        return 'Draw'\n",
    "    \n",
    "    return None\n",
    "\n",
    "def reset_game():\n",
    "    \"\"\"Resets the game by reinitializing the board.\"\"\"\n",
    "    return initialize_board()"
   ]
  },
  {
   "cell_type": "code",
   "execution_count": 14,
   "metadata": {},
   "outputs": [],
   "source": [
    "# Write an integration test `test_game_integration` that performs a series of operations\n",
    "def test_game_integration():\n",
    "    \"\"\"Write an integration test `test_game_integration` that performs a series of operations.\"\"\"\n",
    "\n",
    "    board = initialize_board() # initializing the board\n",
    "    # making multiple moves\n",
    "    assert make_move(board, 0, 0, 'X')\n",
    "    assert make_move(board, 0, 1, 'O')\n",
    "    assert make_move(board, 1, 1, 'X')\n",
    "    assert make_move(board, 1, 0, 'O')\n",
    "    assert make_move(board, 2, 2, 'X')  # Here I make X to win with this move\n",
    "\n",
    "    assert check_winner(board) == 'X'  # Check if 'X' is the winner\n",
    "    board = reset_game()  # Reset the game\n",
    "    assert board == initialize_board()  # Verify that the board is reset"
   ]
  },
  {
   "cell_type": "markdown",
   "metadata": {},
   "source": [
    "#### e) Add the tests from 1a, 1b, 1c, and 1d to a file called `test_tictactoe.py` in your folder. Run all the tests from your command line using `pytest` (with verbosity setting `-vv`) and include the output in your homework solution."
   ]
  },
  {
   "cell_type": "code",
   "execution_count": 1,
   "metadata": {},
   "outputs": [],
   "source": [
    "# In my terminal, should code 'pytest test_tictactoe.py -vv' in the directory that has this ipynb and the test_tictactoe.py\n",
    "# My output is shown below"
   ]
  },
  {
   "cell_type": "markdown",
   "metadata": {},
   "source": [
    "Result without question 2"
   ]
  },
  {
   "cell_type": "markdown",
   "metadata": {},
   "source": [
    "![My Output](question_e_output.png)"
   ]
  },
  {
   "cell_type": "markdown",
   "metadata": {},
   "source": [
    "Result with question 2 "
   ]
  },
  {
   "cell_type": "markdown",
   "metadata": {},
   "source": [
    "\n",
    "![My Output](question_e_result.png)"
   ]
  },
  {
   "cell_type": "markdown",
   "metadata": {},
   "source": [
    "### 2. Advanced Testing\n",
    "\n",
    "#### a) Utilize the `@pytest.mark.parametrize` decorator to create a parameterized test function `test_make_move` that tests multiple scenarios of making moves, including edge cases such as invalid row or column indices, and placing a marker in an already occupied spot.\n",
    "\n",
    "_Hint_: In this test, you’re verifying the behavior of the `make_move` function under different scenarios. To do this, you’ll need to create specific board configurations (i.e., `initial_board`) to test whether the move works as expected.\n",
    "\n",
    "Think of each test case as setting up a board in a known state and then trying to make a move on that board:\n",
    "\n",
    "1.\tEmpty Board: A completely empty board where any valid move should succeed.\n",
    "2.\tOccupied Cell: A board where one cell is already taken. Try to make a move on that cell and check if it returns `False`.\n",
    "3.\tValid Move: A board where you attempt to place a move on a valid, empty cell.\n",
    "4.\tOut-of-Bounds Moves: Consider moves where row or col is outside the 3x3 grid (e.g., 3, 3 or -1, 0). These should raise an IndexError.\n",
    "\n",
    "For each test case, start with a specific `initial_board`, then use the `make_move` function with a given `row`, `col`, and `player`. Based on the scenario, check if the move is successful (or not) and if the board is updated correctly.\n",
    "\n",
    "Here is an example of an `initial_board` configuration: \n",
    "```\n",
    "    [['X', ' ', ' '],\n",
    "    [' ', ' ', ' '],\n",
    "    [' ', ' ', ' ']]\n",
    "```\n"
   ]
  },
  {
   "cell_type": "code",
   "execution_count": 2,
   "metadata": {},
   "outputs": [],
   "source": [
    "# Show the given related functions\n",
    "def make_move(board, row, col, player):\n",
    "    \"\"\"\n",
    "    Places the player's symbol ('X' or 'O') on the board at the specified position.\n",
    "    \n",
    "    Args:\n",
    "        board (list): The current game board.\n",
    "        row (int): The row index (0-based).\n",
    "        col (int): The column index (0-based).\n",
    "        player (str): The player's symbol ('X' or 'O').\n",
    "\n",
    "    Returns:\n",
    "        bool: True if the move was successful, False otherwise.\n",
    "    \"\"\"\n",
    "    if board[row][col] == ' ':\n",
    "        board[row][col] = player\n",
    "        return True\n",
    "    return False"
   ]
  },
  {
   "cell_type": "code",
   "execution_count": 19,
   "metadata": {},
   "outputs": [],
   "source": [
    "# Create the decorator\n",
    "import pytest\n",
    "\n",
    "@pytest.mark.parametrize(\"initial_board, row, col, player, expected_result, expected_board\", [\n",
    "    (initialize_board(), \n",
    "     0, 0, 'X', True, \n",
    "     [['X', ' ', ' '], \n",
    "      [' ', ' ', ' '], \n",
    "      [' ', ' ', ' ']]),  # Valid move\n",
    "      \n",
    "    ([['X', ' ', ' '], \n",
    "      [' ', ' ', ' '], \n",
    "      [' ', ' ', ' ']], \n",
    "      0, 0, 'O', False, \n",
    "      [['X', ' ', ' '], \n",
    "       [' ', ' ', ' '], \n",
    "       [' ', ' ', ' ']]),  # Overwrite occupied cell\n",
    "\n",
    "    (initialize_board(), 3, 3, 'X', False, initialize_board()),  # Out-of-bounds move\n",
    "    (initialize_board(), -1, 0, 'O', False, initialize_board()),  # Out-of-bounds move\n",
    "])\n",
    "def test_make_move(initial_board, row, col, player, expected_result, expected_board):\n",
    "    \"\"\"test function `test_make_move` that tests multiple scenarios of making moves, including edge cases such as invalid row or column indices, and placing a marker in an already occupied spot.\"\"\"\n",
    "    try:\n",
    "        result = make_move(initial_board, row, col, player)\n",
    "        assert result == expected_result, f\"Should get {expected_result} and get {result}.\"\n",
    "        assert initial_board == expected_board, f\"Should get {expected_board} and get {initial_board}.\"\n",
    "    except IndexError:\n",
    "        assert expected_result == False, \"Should raise IndexError.\""
   ]
  },
  {
   "cell_type": "markdown",
   "metadata": {},
   "source": [
    "#### b) Use the pytest `fixture` functionality to create a common setup for a game board that will be used in multiple test functions. Ensure that this fixture initializes a fresh board before each test to maintain test independence."
   ]
  },
  {
   "cell_type": "code",
   "execution_count": 20,
   "metadata": {},
   "outputs": [],
   "source": [
    "@pytest.fixture\n",
    "def fresh_board():\n",
    "    \"\"\"Fixture that resets the board for each test.\"\"\"\n",
    "    return [[' ' for _ in range(3)] for _ in range(3)]\n",
    "\n",
    "def test_initialize_board(fresh_board): # This time, we input the fresh board and test the function\n",
    "    \"\"\"Write a test function `test_initialize_board` that verifies the `initialize_board` function creates an empty 3x3 board.\"\"\"\n",
    "    board = fresh_board # Get the fresh board from the fixture\n",
    "    assert len(board) == 3  # Check if number of rows = 3\n",
    "    assert all(len(row) == 3 for row in board)  # Check the number of columns in each row\n",
    "    assert all(cell == ' ' for row in board for cell in row)  # Check if all cells are empty\n",
    "\n",
    "def test_make_move_valid(fresh_board):\n",
    "    \"\"\"Create a test function `test_make_move_valid` that checks whether make_move successfully places a player’s symbol on an empty cell.\"\"\"\n",
    "    board = fresh_board # Get the fresh board from the fixture\n",
    "    assert make_move(board, 0, 0, 'X')  # Make a valid move with X\n",
    "    assert board[0][0] == 'X'  # Check that 'X' is placed correctly\n",
    "    assert make_move(board, 1, 1, 'O')  # Make another valid move with O\n",
    "    assert board[1][1] == 'O'  # Check that 'O' is placed correctly\n",
    "\n",
    "def test_make_move_invalid(fresh_board):\n",
    "    \"\"\"Create a test function `test_make_move_invalid` that ensures `make_move` does not overwrite an occupied cell and returns `False` when attempting to do so\"\"\"\n",
    "    board = fresh_board # Get the fresh board from the fixture\n",
    "    make_move(board, 0, 0, 'X')  # Place 'X' in an empty cell\n",
    "    result = make_move(board, 0, 0, 'O')  # Attempt to overwrite the occupied cell\n",
    "    assert not result  # Ensure that the move was unsuccessful\n",
    "    assert board[0][0] == 'X'  # Confirm that 'X' remains in that cell\n"
   ]
  }
 ],
 "metadata": {
  "kernelspec": {
   "display_name": "Python 3",
   "language": "python",
   "name": "python3"
  },
  "language_info": {
   "codemirror_mode": {
    "name": "ipython",
    "version": 3
   },
   "file_extension": ".py",
   "mimetype": "text/x-python",
   "name": "python",
   "nbconvert_exporter": "python",
   "pygments_lexer": "ipython3",
   "version": "3.12.5"
  }
 },
 "nbformat": 4,
 "nbformat_minor": 2
}
