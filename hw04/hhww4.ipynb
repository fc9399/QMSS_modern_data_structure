{
 "cells": [
  {
   "cell_type": "markdown",
   "metadata": {},
   "source": [
    "# HW 4: Classes and Objects\n",
    "## QMSS G5072 Modern Data Structures\n",
    "\n",
    "You're collaborating with a local animal shelter to modernize their animal management and adoption tracking system. They need a foundational system for managing their animals and facilitating adoptions effectively.\n",
    "\n",
    "## 1. Animal Class\n",
    "\n",
    "### a) Create `Animal` class\n",
    "\n",
    "Create a class called `Animal`. Initialize it with:\n",
    "\n",
    "- `name` (string)\n",
    "- `species` (string)\n",
    "- `age` (integer: the animal’s age in years)\n",
    "\n",
    "Demonstrate the initialization of a single `Animal` object and print the object's attributes.\n"
   ]
  },
  {
   "cell_type": "code",
   "execution_count": 44,
   "metadata": {},
   "outputs": [
    {
     "name": "stdout",
     "output_type": "stream",
     "text": [
      "<__main__.Animal object at 0x00000132735D4B30>\n",
      "Name: Genshin, Species: hedgehog, Age: 4\n"
     ]
    }
   ],
   "source": [
    "# Create a class named 'Animal'\n",
    "class Animal:\n",
    "    def __init__(self, name:str, species:str, age:int): # Remember! Double underscore for __init__!! NOT _init_\n",
    "        self.name = name\n",
    "        self.species = species\n",
    "        self.age = age\n",
    "\n",
    "# Create an example of a single 'Animal' object\n",
    "example = Animal(\"Genshin\", \"hedgehog\", 4)\n",
    "\n",
    "# Print the object's attributes\n",
    "print(example)\n",
    "print(f\"Name: {example.name}, Species: {example.species}, Age: {example.age}\")"
   ]
  },
  {
   "cell_type": "markdown",
   "metadata": {},
   "source": [
    "### b) Add `__str__` method to the `Animal` class\n",
    "\n",
    "Add a method to `Animal` that returns a string with the following format:\n",
    "\n",
    "```plaintext\n",
    "\"<name> the <species> is <age> years old.\"\n",
    "```\n",
    "\n",
    "Create an `Animal` object and print its string representation using the `__str__` method.\n"
   ]
  },
  {
   "cell_type": "code",
   "execution_count": 45,
   "metadata": {},
   "outputs": [
    {
     "name": "stdout",
     "output_type": "stream",
     "text": [
      "Genshin the hedgehog is 4 years old.\n"
     ]
    }
   ],
   "source": [
    "# Create a class named 'Animal'\n",
    "class Animal:\n",
    "    def __init__(self, name:str, species:str, age:int):\n",
    "        self.name = name\n",
    "        self.species = species\n",
    "        self.age = age\n",
    "\n",
    "    def __str__(self):\n",
    "        return f'{self.name} the {self.species} is {self.age} years old.'\n",
    "\n",
    "# Create an example of a single 'Animal' object\n",
    "example = Animal(\"Genshin\", \"hedgehog\", 4)\n",
    "\n",
    "# Print the object's attributes\n",
    "print(example)"
   ]
  },
  {
   "cell_type": "markdown",
   "metadata": {},
   "source": [
    "### c) Create `Animal` objects\n",
    "\n",
    "Create 6 `Animal` objects using the following data and print their string representations:\n",
    "\n",
    "```json\n",
    "animals_data = [\n",
    "    {\"name\": \"Buddy\", \"species\": \"Dog\", \"age\": 3},\n",
    "    {\"name\": \"Whiskers\", \"species\": \"Cat\", \"age\": 2},\n",
    "    {\"name\": \"Chirpy\", \"species\": \"Bird\", \"age\": 1},\n",
    "    {\"name\": \"Nibbles\", \"species\": \"Rabbit\", \"age\": 4},\n",
    "    {\"name\": \"Goldie\", \"species\": \"Fish\", \"age\": 1},\n",
    "    {\"name\": \"Spike\", \"species\": \"Lizard\", \"age\": 5}\n",
    "]\n",
    "```"
   ]
  },
  {
   "cell_type": "code",
   "execution_count": 46,
   "metadata": {},
   "outputs": [
    {
     "name": "stdout",
     "output_type": "stream",
     "text": [
      "Buddy the Dog is 3 years old.\n",
      "Whiskers the Cat is 2 years old.\n",
      "Chirpy the Bird is 1 years old.\n",
      "Nibbles the Rabbit is 4 years old.\n",
      "Goldie the Fish is 1 years old.\n",
      "Spike the Lizard is 5 years old.\n"
     ]
    }
   ],
   "source": [
    "# Create a class named 'Animal'\n",
    "class Animal:\n",
    "    def __init__(self, name:str, species:str, age:int):\n",
    "        self.name = name\n",
    "        self.species = species\n",
    "        self.age = age\n",
    "\n",
    "    def __str__(self):\n",
    "        return f'{self.name} the {self.species} is {self.age} years old.'\n",
    "\n",
    "# The given data list\n",
    "animals_data = [\n",
    "    {\"name\": \"Buddy\", \"species\": \"Dog\", \"age\": 3},\n",
    "    {\"name\": \"Whiskers\", \"species\": \"Cat\", \"age\": 2},\n",
    "    {\"name\": \"Chirpy\", \"species\": \"Bird\", \"age\": 1},\n",
    "    {\"name\": \"Nibbles\", \"species\": \"Rabbit\", \"age\": 4},\n",
    "    {\"name\": \"Goldie\", \"species\": \"Fish\", \"age\": 1},\n",
    "    {\"name\": \"Spike\", \"species\": \"Lizard\", \"age\": 5}\n",
    "]\n",
    "\n",
    "# Print string representations\n",
    "for data in animals_data:\n",
    "    animal = Animal(**data)  # Use ** to unpack the dictionary into function arguments\n",
    "    print(animal)"
   ]
  },
  {
   "cell_type": "code",
   "execution_count": 47,
   "metadata": {},
   "outputs": [
    {
     "name": "stdout",
     "output_type": "stream",
     "text": [
      "Buddy the Dog is 3 years old.\n",
      "Whiskers the Cat is 2 years old.\n",
      "Chirpy the Bird is 1 years old.\n",
      "Nibbles the Rabbit is 4 years old.\n",
      "Goldie the Fish is 1 years old.\n",
      "Spike the Lizard is 5 years old.\n"
     ]
    }
   ],
   "source": [
    "# Another way / format:\n",
    "animals2 = [Animal(**data) for data in animals_data]\n",
    "\n",
    "# here we cannot use print in [print...for...in...] format; otherwise we will get an additional [None,None,...,None]\n",
    "for each_animal in animals2:\n",
    "    print(each_animal)"
   ]
  },
  {
   "cell_type": "markdown",
   "metadata": {},
   "source": [
    "### d) Add Adoption Status\n",
    "\n",
    "Add a method to `Animal` called `adopt` that marks the animal as adopted. Ensure that an animal cannot be adopted more than once.\n",
    "\n",
    "```python\n",
    "def adopt(self):\n",
    "    # Mark the animal as adopted if it isn’t already\n",
    "```\n",
    "\n",
    "Demonstrate this method by adopting \"Whiskers\" and printing the updated string representation."
   ]
  },
  {
   "cell_type": "code",
   "execution_count": 48,
   "metadata": {},
   "outputs": [
    {
     "name": "stdout",
     "output_type": "stream",
     "text": [
      "Whiskers the cat is 5 years old.\n",
      "Whiskers is now officially adopted~\n",
      "Whiskers has been adopted once. It cannot be adopted twice.\n"
     ]
    }
   ],
   "source": [
    "# Add a method called 'adopt' to the class 'Animal'\n",
    "class Animal:\n",
    "    def __init__(self, name:str, species:str, age:int):\n",
    "        self.name = name\n",
    "        self.species = species\n",
    "        self.age = age\n",
    "        self.is_adopted = False # animal starts as unadopted as default\n",
    "\n",
    " # Mark the animal as adopted if it isn’t already\n",
    "    def adopt(self):\n",
    "        if self.is_adopted == False:\n",
    "            self.is_adopted = True\n",
    "            print(f'{self.name} is now officially adopted~')\n",
    "        else:\n",
    "            print(f'{self.name} has been adopted once. It cannot be adopted twice.')\n",
    "\n",
    "    def __str__(self):\n",
    "        return f'{self.name} the {self.species} is {self.age} years old.'\n",
    "\n",
    "\n",
    "# Demonstrate 'adopt' method by adopting \"Whiskers\"\n",
    "\n",
    "# create the animal\n",
    "whiskers = Animal('Whiskers', 'cat', 5)\n",
    "print(whiskers)\n",
    "# adopt once\n",
    "whiskers.adopt()\n",
    "# adopt twice\n",
    "whiskers.adopt()"
   ]
  },
  {
   "cell_type": "markdown",
   "metadata": {},
   "source": [
    "## 2. Shelter Class\n",
    "\n",
    "### a) Create `Shelter` class\n",
    "\n",
    "Create a class called `Shelter` that takes a list of `Animal` objects as an argument during initialization.\n",
    "\n",
    "Demonstrate the initialization by creating a `Shelter` object using the animals created in 1c) and print the object's attributes.\n"
   ]
  },
  {
   "cell_type": "code",
   "execution_count": 53,
   "metadata": {},
   "outputs": [
    {
     "name": "stdout",
     "output_type": "stream",
     "text": [
      "This shelter has 6 animals: \n",
      " Buddy the Dog is 3 years old.\n",
      "Whiskers the Cat is 2 years old.\n",
      "Chirpy the Bird is 1 years old.\n",
      "Nibbles the Rabbit is 4 years old.\n",
      "Goldie the Fish is 1 years old.\n",
      "Spike the Lizard is 5 years old.\n"
     ]
    }
   ],
   "source": [
    "# Create a class 'Shelter' that takes a list of 'Animal' objects as an argument during initialization.\n",
    "class Shelter:\n",
    "    def __init__(self, animals):\n",
    "        self.animals = animals  # Store a list of 'Animal' objects\n",
    "\n",
    "    def __str__(self):\n",
    "        animal_details = ''\n",
    "        for animal in self.animals:\n",
    "            if animal_details != '':  # Check if animal_details is not empty\n",
    "                animal_details += \"\\n\"  # Add a newline before adding the next animal details\n",
    "            animal_details += str(animal)  # Append each animal's string detail\n",
    "        return f\"This shelter has {len(self.animals)} animals: \\n {animal_details}\"\n",
    "\n",
    "# Create Animal objects from the given data\n",
    "animals_data = [\n",
    "    {\"name\": \"Buddy\", \"species\": \"Dog\", \"age\": 3},\n",
    "    {\"name\": \"Whiskers\", \"species\": \"Cat\", \"age\": 2},\n",
    "    {\"name\": \"Chirpy\", \"species\": \"Bird\", \"age\": 1},\n",
    "    {\"name\": \"Nibbles\", \"species\": \"Rabbit\", \"age\": 4},\n",
    "    {\"name\": \"Goldie\", \"species\": \"Fish\", \"age\": 1},\n",
    "    {\"name\": \"Spike\", \"species\": \"Lizard\", \"age\": 5}\n",
    "]\n",
    "\n",
    "# Unpacks each dictionary\n",
    "shelter_animal = [Animal(**data) for data in animals_data]\n",
    "\n",
    "# Create a Shelter object with the list of unpacked Animal objects\n",
    "shelter_example = Shelter(shelter_animal)\n",
    "\n",
    "# Print the attributes of the Shelter object\n",
    "print(shelter_example)"
   ]
  },
  {
   "cell_type": "code",
   "execution_count": 54,
   "metadata": {},
   "outputs": [
    {
     "name": "stdout",
     "output_type": "stream",
     "text": [
      "This shelter has 6 animals: \n",
      " Buddy the Dog is 3 years old.\n",
      "Whiskers the Cat is 2 years old.\n",
      "Chirpy the Bird is 1 years old.\n",
      "Nibbles the Rabbit is 4 years old.\n",
      "Goldie the Fish is 1 years old.\n",
      "Spike the Lizard is 5 years old.\n"
     ]
    }
   ],
   "source": [
    "## ANOTHER WAY (shorter) of appending animals' details\n",
    "\n",
    "# Create a class 'Shelter' that takes a list of 'Animal' objects as an argument during initialization.\n",
    "class Shelter:\n",
    "    def __init__(self, animals):\n",
    "        self.animals = animals # Store a list of 'Animal' objects\n",
    "    \n",
    "    #### HERE IS DIFFERENT\n",
    "    def __str__(self):\n",
    "        animal_details = '\\n'.join(str(animal) for animal in self.animals) # join every animals\n",
    "        return f\"This shelter has {len(self.animals)} animals: \\n {animal_details}\"\n",
    "\n",
    "# The given data list\n",
    "animals_data = [\n",
    "    {\"name\": \"Buddy\", \"species\": \"Dog\", \"age\": 3},\n",
    "    {\"name\": \"Whiskers\", \"species\": \"Cat\", \"age\": 2},\n",
    "    {\"name\": \"Chirpy\", \"species\": \"Bird\", \"age\": 1},\n",
    "    {\"name\": \"Nibbles\", \"species\": \"Rabbit\", \"age\": 4},\n",
    "    {\"name\": \"Goldie\", \"species\": \"Fish\", \"age\": 1},\n",
    "    {\"name\": \"Spike\", \"species\": \"Lizard\", \"age\": 5}\n",
    "]\n",
    "\n",
    "# Unpacks each dictionary\n",
    "shelter_animal2 = [Animal(**data) for data in animals_data]\n",
    "\n",
    "# Create a Shelter object with the list of unpacked Animal objects\n",
    "shelter_example2 = Shelter(shelter_animal2)\n",
    "\n",
    "# Print the attributes of the Shelter object\n",
    "print(shelter_example2)\n"
   ]
  },
  {
   "cell_type": "markdown",
   "metadata": {},
   "source": [
    "### b) Check Animal Availability\n",
    "\n",
    "Add a method to `Shelter` called `check_availability` that takes an animal species as an argument and returns a boolean indicating whether there is an available animal of that species.\n",
    "\n",
    "Demonstrate this method by checking the availability for \"Dog\" and print the result."
   ]
  },
  {
   "cell_type": "code",
   "execution_count": 66,
   "metadata": {},
   "outputs": [
    {
     "name": "stdout",
     "output_type": "stream",
     "text": [
      "Your target species, dog, is avaliable!\n"
     ]
    }
   ],
   "source": [
    "# Update the class 'Shelter'\n",
    "class Shelter:\n",
    "    def __init__(self, animals):\n",
    "        self.animals = animals # Store a list of 'Animal' objects\n",
    "    \n",
    "    def __str__(self):\n",
    "        animal_details = '\\n'.join(str(animal) for animal in self.animals) # join every animals\n",
    "        return f\"This shelter has {len(self.animals)} animals: \\n {animal_details}\"\n",
    "    \n",
    "    # Check whether there is an available animal of that species.\n",
    "    def check_availability(self, animal_species):\n",
    "        animal_species = animal_species.capitalize() # make sure the first letter of the input is capitalized\n",
    "        availability = False \n",
    "        for animal in self.animals: # Change avaliability to True if find the target species in self.animals list\n",
    "            if animal.species == animal_species:\n",
    "                availability = True\n",
    "                break\n",
    "        return availability\n",
    "    \n",
    "# Unpacks each dictionary in the given animal data\n",
    "shelter_animal = [Animal(**data) for data in animals_data]\n",
    "\n",
    "# Create a Shelter object with the list of unpacked Animal objects\n",
    "avaliability_example = Shelter(shelter_animal)\n",
    "\n",
    "# Checking the availability for \"Dog\" and print the result.\n",
    "target_species = 'dog'\n",
    "if avaliability_example.check_availability(target_species) == False:\n",
    "    print(f'Your target species, {target_species}, is NOT avaliable.')\n",
    "else:\n",
    "    print(f'Your target species, {target_species}, is avaliable!')"
   ]
  },
  {
   "cell_type": "code",
   "execution_count": 68,
   "metadata": {},
   "outputs": [
    {
     "name": "stdout",
     "output_type": "stream",
     "text": [
      "Your target species, dog, is avaliable!\n"
     ]
    }
   ],
   "source": [
    "## ANOTHER WAY (Shorter!)\n",
    "\n",
    "# Update the class 'Shelter'\n",
    "class Shelter:\n",
    "    def __init__(self, animals):\n",
    "        self.animals = animals # Store a list of 'Animal' objects\n",
    "    \n",
    "    def __str__(self):\n",
    "        animal_details = '\\n'.join(str(animal) for animal in self.animals) # join every animals\n",
    "        return f\"This shelter has {len(self.animals)} animals: \\n {animal_details}\"\n",
    "    \n",
    "    #### HERE IS DIFFERENT\n",
    "    # Check whether there is an available animal of that species.\n",
    "    def check_availability(self, animal_species):\n",
    "        animal_species = animal_species.capitalize() # make sure the first letter of the input is capitalized\n",
    "        return any(animal.species == animal_species for animal in self.animals) # Check every animal\n",
    "        \n",
    "\n",
    "# Unpacks each dictionary in the given animal data\n",
    "shelter_animal = [Animal(**data) for data in animals_data]\n",
    "\n",
    "# Create a Shelter object with the list of unpacked Animal objects\n",
    "avaliability_example = Shelter(shelter_animal)\n",
    "\n",
    "# Checking the availability for \"Dog\" and print the result.\n",
    "target_species = 'dog'\n",
    "if avaliability_example.check_availability(target_species) == False:\n",
    "    print(f'Your target species, {target_species}, is NOT avaliable.')\n",
    "else:\n",
    "    print(f'Your target species, {target_species}, is avaliable!')"
   ]
  },
  {
   "cell_type": "markdown",
   "metadata": {},
   "source": [
    "### c) List Available Animals by Species\n",
    "\n",
    "Add a method to `Shelter` called `list_by_species` that takes a species name as an argument and returns a list of all available (i.e., not yet adopted) animals of that species.\n",
    "\n",
    "Demonstrate this method by listing all available \"Cat\" species."
   ]
  },
  {
   "cell_type": "code",
   "execution_count": 70,
   "metadata": {},
   "outputs": [
    {
     "name": "stdout",
     "output_type": "stream",
     "text": [
      "Avaliable cat(s) include: \n",
      " Whiskers the Cat is 2 years old.\n"
     ]
    }
   ],
   "source": [
    "# Update the class 'Shelter'\n",
    "class Shelter:\n",
    "    def __init__(self, animals):\n",
    "        self.animals = animals # Store a list of 'Animal' objects\n",
    "    \n",
    "    def __str__(self):\n",
    "        animal_details = '\\n'.join(str(animal) for animal in self.animals) # join every animals\n",
    "        return f\"This shelter has {len(self.animals)} animals: \\n {animal_details}\"\n",
    "    \n",
    "    # Check whether there is an available animal of that species.\n",
    "    def check_availability(self, animal_species):\n",
    "        animal_species = animal_species.capitalize() # make sure the first letter of the input is capitalized\n",
    "        return any(animal.species == animal_species for animal in self.animals) # Check every animal\n",
    "    \n",
    "\n",
    "    def list_by_species(self, species):\n",
    "        species = species.capitalize() # make sure the first letter of the input is capitalized.\n",
    "        return [animal for animal in self.animals if ((animal.species == species) and (animal.is_adopted == False))]\n",
    "    \n",
    "    \n",
    "# Demonstrate this method by listing all available \"Cat\" species.\n",
    "# Unpacks each dictionary in the given animal data\n",
    "shelter_animal = [Animal(**data) for data in animals_data]\n",
    "\n",
    "# Create a Shelter object with the list of unpacked Animal objects\n",
    "cat_example = Shelter(shelter_animal)\n",
    "\n",
    "# List all available \"Cat\" species\n",
    "available_cats = cat_example.list_by_species('cat')\n",
    "for cat in available_cats:\n",
    "    print(f'Avaliable cat(s) include: \\n {cat}')"
   ]
  },
  {
   "cell_type": "markdown",
   "metadata": {},
   "source": [
    "## Bonus Question (for additional points): Implementing a Weight Monitoring System\n",
    "\n",
    "- Modify the `Animal` class to include a `weight` attribute (float) and an `update_weight` method to change the animal's weight. Ensure the weight cannot be negative.\n",
    "\n",
    "- Add a method `average_weight_by_species` to the `Shelter` class that takes a species name and returns the average weight of all available animals of that species.\n",
    "\n",
    "Demonstrate this system by calculating and printing the average weight for \"Dog\" and \"Fish\" species."
   ]
  },
  {
   "cell_type": "code",
   "execution_count": 71,
   "metadata": {},
   "outputs": [],
   "source": [
    "# Update class 'Animal'\n",
    "class Animal:\n",
    "    def __init__(self, name:str, species:str, age:int, weight:float):\n",
    "        self.name = name\n",
    "        self.species = species\n",
    "        self.age = age\n",
    "        self.weight = weight\n",
    "        self.is_adopted = False # animal starts as unadopted as default\n",
    "\n",
    " # Mark the animal as adopted if it isn’t already\n",
    "    def adopt(self):\n",
    "        if self.is_adopted == False:\n",
    "            self.is_adopted = True\n",
    "            print(f'{self.name} is now officially adopted~')\n",
    "        else:\n",
    "            print(f'{self.name} has been adopted once. It cannot be adopted twice.')\n",
    "\n",
    "    def __str__(self):\n",
    "        return f'{self.name} the {self.species} is {self.age} years old, {self.weight} kg.'\n",
    "    \n",
    "    # To change the animal's weight\n",
    "    def update_weight(self, new_weight: float):\n",
    "        assert new_weight >= 0, \"Age must be a positive number\"\n",
    "        self.weight = new_weight"
   ]
  },
  {
   "cell_type": "code",
   "execution_count": 72,
   "metadata": {},
   "outputs": [],
   "source": [
    "# Update the class 'Shelter'\n",
    "class Shelter:\n",
    "    def __init__(self, animals):\n",
    "        self.animals = animals # Store a list of 'Animal' objects\n",
    "    \n",
    "    def __str__(self):\n",
    "        animal_details = '\\n'.join(str(animal) for animal in self.animals) # join every animals\n",
    "        return f\"This shelter has {len(self.animals)} animals: \\n {animal_details}\"\n",
    "    \n",
    "    # Check whether there is an available animal of that species.\n",
    "    def check_availability(self, animal_species):\n",
    "        animal_species = animal_species.capitalize() # make sure the first letter of the input is capitalized\n",
    "        return any(animal.species == animal_species for animal in self.animals) # Check every animal\n",
    "    \n",
    "\n",
    "    def list_by_species(self, species):\n",
    "        species = species.capitalize() # make sure the first letter of the input is capitalized.\n",
    "        return [animal for animal in self.animals if ((animal.species == species) and (animal.is_adopted == False))]\n",
    "    \n",
    "    # Takes a species name and returns the average weight of all available animals of that species.\n",
    "    def average_weight_by_species(self, species):\n",
    "        count = 0\n",
    "        total_weight = 0.0\n",
    "        for animal in self.animals:\n",
    "            if animal.species == species:\n",
    "                total_weight += animal.weight\n",
    "                count += 1\n",
    "        return total_weight / count if count > 0 else 0"
   ]
  },
  {
   "cell_type": "code",
   "execution_count": 75,
   "metadata": {},
   "outputs": [
    {
     "name": "stdout",
     "output_type": "stream",
     "text": [
      "Average weight for Dogs: 10.0 kg\n",
      "Average weight for Fish: 1000.0 kg\n"
     ]
    }
   ],
   "source": [
    "# Demonstrate this system by calculating and printing the average weight for \"Dog\" and \"Fish\" species.\n",
    "\n",
    "# Create a data list\n",
    "animals_data2 = [\n",
    "    {\"name\": \"Buddy\", \"species\": \"Dog\", \"age\": 3, \"weight\": 10},\n",
    "    {\"name\": \"Whiskers\", \"species\": \"Dog\", \"age\": 2, \"weight\": 10},\n",
    "    {\"name\": \"Chirpy\", \"species\": \"Dog\", \"age\": 1, \"weight\": 10},\n",
    "    {\"name\": \"Nibbles\", \"species\": \"Fish\", \"age\": 4, \"weight\": 1000},\n",
    "    {\"name\": \"Goldie\", \"species\": \"Fish\", \"age\": 1, \"weight\": 1000},\n",
    "    {\"name\": \"Spike\", \"species\": \"GenshinImpact\", \"age\": 5, \"weight\": 2020}\n",
    "]\n",
    "\n",
    "# Unpacks each dictionary\n",
    "animal_weight = [Animal(**data) for data in animals_data2]\n",
    "\n",
    "# Create a Shelter object with the list of unpacked Animal objects\n",
    "shelter_weight = Shelter(animal_weight)\n",
    "\n",
    "# Calculate and print average weight for Dogs and Fish\n",
    "average_weight_dogs = shelter_weight.average_weight_by_species(\"Dog\")\n",
    "average_weight_fish = shelter_weight.average_weight_by_species(\"Fish\")\n",
    "print(f\"Average weight for Dogs: {average_weight_dogs} kg\")\n",
    "print(f\"Average weight for Fish: {average_weight_fish} kg\")"
   ]
  }
 ],
 "metadata": {
  "kernelspec": {
   "display_name": "Python 3",
   "language": "python",
   "name": "python3"
  },
  "language_info": {
   "codemirror_mode": {
    "name": "ipython",
    "version": 3
   },
   "file_extension": ".py",
   "mimetype": "text/x-python",
   "name": "python",
   "nbconvert_exporter": "python",
   "pygments_lexer": "ipython3",
   "version": "3.12.5"
  }
 },
 "nbformat": 4,
 "nbformat_minor": 2
}
