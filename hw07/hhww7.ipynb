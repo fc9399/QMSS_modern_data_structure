{
 "cells": [
  {
   "cell_type": "markdown",
   "id": "098c84ab-2f3d-4cb3-b9f5-c9245af18a59",
   "metadata": {},
   "source": [
    "### 4. Publish to test.pypi.org\n",
    "\n",
    "a) Build and publish your package to [TestPyPi]((https://test.pypi.org/)).\n",
    "\n",
    "b) Try to install your package locally (via `pip` or `poetry`) from TestPyPi. Check if the functions work and have the documentation examples you added to them.\n"
   ]
  },
  {
   "cell_type": "markdown",
   "id": "f7255f64-c2cc-4771-b229-a9c4b25533e2",
   "metadata": {},
   "source": [
    "c) In your usual **private** student repository for our course, add a folder for HW7 and add a jupyter notebook.\n",
    "\n",
    "In that notebook:\n",
    "\n",
    "- provide a link to your TestPyPi package and the repo of your package"
   ]
  },
  {
   "cell_type": "markdown",
   "id": "873a75c0-c701-4fe3-837a-7ec6b4923d99",
   "metadata": {},
   "source": [
    "[TestPyPI Package](https://test.pypi.org/project/tictactoe_fc2786/)\n",
    "\n",
    "[GitHub Repository for the Package](https://github.com/QMSS-G5072-2024/tictactoe_Chau_Fung) It is strange that my names are capitalized in this link while the content inside the website shows lower cases"
   ]
  },
  {
   "cell_type": "markdown",
   "id": "c098cad3-7c53-4a5a-8ea7-de860a0472d5",
   "metadata": {},
   "source": [
    "- directly install your package from TestPyPi (using `!pip ...`)\n"
   ]
  },
  {
   "cell_type": "code",
   "execution_count": 2,
   "id": "b769d1e6-1f66-4bfd-a620-3684f2228dc0",
   "metadata": {},
   "outputs": [
    {
     "name": "stdout",
     "output_type": "stream",
     "text": [
      "Defaulting to user installation because normal site-packages is not writeableNote: you may need to restart the kernel to use updated packages.\n",
      "\n",
      "Looking in indexes: https://test.pypi.org/simple/, https://pypi.org/simple\n",
      "Requirement already satisfied: tictactoe_fc2786 in c:\\users\\10499\\appdata\\roaming\\python\\python312\\site-packages (0.1.1)\n",
      "Requirement already satisfied: matplotlib<4.0.0,>=3.9.2 in c:\\users\\10499\\appdata\\roaming\\python\\python312\\site-packages (from tictactoe_fc2786) (3.9.2)\n",
      "Requirement already satisfied: numpy<3.0.0,>=2.1.1 in c:\\users\\10499\\appdata\\roaming\\python\\python312\\site-packages (from tictactoe_fc2786) (2.1.1)\n",
      "Requirement already satisfied: pandas<3.0.0,>=2.2.2 in c:\\users\\10499\\appdata\\roaming\\python\\python312\\site-packages (from tictactoe_fc2786) (2.2.2)\n",
      "Requirement already satisfied: scipy<2.0.0,>=1.14.1 in c:\\users\\10499\\appdata\\roaming\\python\\python312\\site-packages (from tictactoe_fc2786) (1.14.1)\n",
      "Requirement already satisfied: seaborn<0.14.0,>=0.13.2 in c:\\users\\10499\\appdata\\roaming\\python\\python312\\site-packages (from tictactoe_fc2786) (0.13.2)\n",
      "Requirement already satisfied: contourpy>=1.0.1 in c:\\users\\10499\\appdata\\roaming\\python\\python312\\site-packages (from matplotlib<4.0.0,>=3.9.2->tictactoe_fc2786) (1.3.0)\n",
      "Requirement already satisfied: cycler>=0.10 in c:\\users\\10499\\appdata\\roaming\\python\\python312\\site-packages (from matplotlib<4.0.0,>=3.9.2->tictactoe_fc2786) (0.12.1)\n",
      "Requirement already satisfied: fonttools>=4.22.0 in c:\\users\\10499\\appdata\\roaming\\python\\python312\\site-packages (from matplotlib<4.0.0,>=3.9.2->tictactoe_fc2786) (4.53.1)\n",
      "Requirement already satisfied: kiwisolver>=1.3.1 in c:\\users\\10499\\appdata\\roaming\\python\\python312\\site-packages (from matplotlib<4.0.0,>=3.9.2->tictactoe_fc2786) (1.4.7)\n",
      "Requirement already satisfied: packaging>=20.0 in c:\\users\\10499\\appdata\\roaming\\python\\python312\\site-packages (from matplotlib<4.0.0,>=3.9.2->tictactoe_fc2786) (24.1)\n",
      "Requirement already satisfied: pillow>=8 in c:\\users\\10499\\appdata\\roaming\\python\\python312\\site-packages (from matplotlib<4.0.0,>=3.9.2->tictactoe_fc2786) (10.4.0)\n",
      "Requirement already satisfied: pyparsing>=2.3.1 in c:\\users\\10499\\appdata\\roaming\\python\\python312\\site-packages (from matplotlib<4.0.0,>=3.9.2->tictactoe_fc2786) (3.1.4)\n",
      "Requirement already satisfied: python-dateutil>=2.7 in c:\\users\\10499\\appdata\\roaming\\python\\python312\\site-packages (from matplotlib<4.0.0,>=3.9.2->tictactoe_fc2786) (2.9.0.post0)\n",
      "Requirement already satisfied: pytz>=2020.1 in c:\\users\\10499\\appdata\\roaming\\python\\python312\\site-packages (from pandas<3.0.0,>=2.2.2->tictactoe_fc2786) (2024.2)\n",
      "Requirement already satisfied: tzdata>=2022.7 in c:\\users\\10499\\appdata\\roaming\\python\\python312\\site-packages (from pandas<3.0.0,>=2.2.2->tictactoe_fc2786) (2024.1)\n",
      "Requirement already satisfied: six>=1.5 in c:\\users\\10499\\appdata\\roaming\\python\\python312\\site-packages (from python-dateutil>=2.7->matplotlib<4.0.0,>=3.9.2->tictactoe_fc2786) (1.16.0)\n"
     ]
    }
   ],
   "source": [
    "pip install --upgrade --index-url https://test.pypi.org/simple/ --extra-index-url https://pypi.org/simple tictactoe_fc2786"
   ]
  },
  {
   "cell_type": "markdown",
   "id": "98d28b02-2ab0-4d4f-b4a9-f939258edf27",
   "metadata": {},
   "source": [
    "- import your package"
   ]
  },
  {
   "cell_type": "code",
   "execution_count": 3,
   "id": "5adacafb-5ea2-4cb8-b347-72d0f6dab97f",
   "metadata": {},
   "outputs": [],
   "source": [
    "from tictactoe_fc2786 import initialize_board, make_move, check_winner\n"
   ]
  },
  {
   "cell_type": "markdown",
   "id": "a41794fd-efb4-4d42-bf4c-3905c0301507",
   "metadata": {},
   "source": [
    "- Provide an example that initializes the board, makes 3 possible moves for each player, and then checks if there is a winner."
   ]
  },
  {
   "cell_type": "code",
   "execution_count": null,
   "id": "8d26a33b",
   "metadata": {},
   "outputs": [
    {
     "name": "stdout",
     "output_type": "stream",
     "text": [
      "Current Board State:\n",
      "['X', 'O', ' ']\n",
      "['O', 'X', ' ']\n",
      "['O', ' ', 'X']\n",
      "Winner: X\n"
     ]
    }
   ],
   "source": [
    "# Initialize the board\n",
    "board = initialize_board()\n",
    "\n",
    "# Make three moves for each player\n",
    "moves = [\n",
    "    (0, 0, 'X'), (0, 1, 'O'), (1, 1, 'X'), # player 1\n",
    "    (1, 0, 'O'), (2, 2, 'X'), (2, 0, 'O') # player 2\n",
    "]\n",
    "\n",
    "for row, col, player in moves:\n",
    "    make_move(board, row, col, player)\n",
    "\n",
    "# Check if there is a winner\n",
    "winner = check_winner(board)\n",
    "print(\"Current Board State:\")\n",
    "for row in board:\n",
    "    print(row)\n",
    "print(\"Winner:\", winner if winner else \"No winner yet\")"
   ]
  },
  {
   "cell_type": "markdown",
   "id": "a6263707-511b-4571-8ae0-9314e84af337",
   "metadata": {},
   "source": [
    "- show the output of `help(<yourpackage>)` and `help(<yourpackage>.check_winner)`"
   ]
  },
  {
   "cell_type": "code",
   "execution_count": 6,
   "id": "6302c67b-c6f4-4258-b5fa-88fc16dbe0f1",
   "metadata": {},
   "outputs": [
    {
     "name": "stdout",
     "output_type": "stream",
     "text": [
      "Help on package tictactoe_fc2786:\n",
      "\n",
      "NAME\n",
      "    tictactoe_fc2786 - # read version from installed package\n",
      "\n",
      "PACKAGE CONTENTS\n",
      "    tictactoe_fc2786\n",
      "\n",
      "VERSION\n",
      "    0.1.1\n",
      "\n",
      "FILE\n",
      "    c:\\users\\10499\\appdata\\roaming\\python\\python312\\site-packages\\tictactoe_fc2786\\__init__.py\n",
      "\n",
      "\n",
      "Help on function check_winner in module tictactoe_fc2786.tictactoe_fc2786:\n",
      "\n",
      "check_winner(board)\n",
      "    Checks the current board for a winner.\n",
      "\n",
      "    Parameters\n",
      "    ----------\n",
      "    board : list of list of str\n",
      "        The current game board.\n",
      "\n",
      "    Returns\n",
      "    -------\n",
      "    str or None\n",
      "        'X' or 'O' if there is a winner, 'Draw' if it's a draw, or None if the game is ongoing.\n",
      "\n",
      "    Examples\n",
      "    --------\n",
      "    >>> board = [['X', 'X', 'X'], [' ', 'O', ' '], ['O', ' ', ' ']]\n",
      "    >>> check_winner(board)\n",
      "    'X'\n",
      "    >>> board = [['X', 'O', 'X'], ['O', 'X', 'O'], ['O', 'X', 'O']]\n",
      "    >>> check_winner(board)\n",
      "    'Draw'\n",
      "    >>> board = [['X', 'O', ' '], ['O', 'X', ' '], [' ', ' ', ' ']]\n",
      "    >>> check_winner(board)\n",
      "    None\n",
      "\n"
     ]
    }
   ],
   "source": [
    "# Display help for the package (main functions may appear under the module)\n",
    "help('tictactoe_fc2786')\n",
    "\n",
    "# Display help for the specific function check_winner\n",
    "help(check_winner)\n"
   ]
  }
 ],
 "metadata": {
  "kernelspec": {
   "display_name": "Python 3",
   "language": "python",
   "name": "python3"
  },
  "language_info": {
   "codemirror_mode": {
    "name": "ipython",
    "version": 3
   },
   "file_extension": ".py",
   "mimetype": "text/x-python",
   "name": "python",
   "nbconvert_exporter": "python",
   "pygments_lexer": "ipython3",
   "version": "3.12.5"
  }
 },
 "nbformat": 4,
 "nbformat_minor": 5
}
