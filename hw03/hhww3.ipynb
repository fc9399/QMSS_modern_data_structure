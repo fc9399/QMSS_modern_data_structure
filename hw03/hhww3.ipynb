{
 "cells": [
  {
   "cell_type": "markdown",
   "metadata": {},
   "source": [
    "## HW 3: Writing Functions"
   ]
  },
  {
   "cell_type": "markdown",
   "metadata": {},
   "source": [
    "QMSS G5072 Modern Data Structures\n",
    "In this week's exercise, we will practice writing and combining functions in Python, focusing on real-world applications."
   ]
  },
  {
   "cell_type": "markdown",
   "metadata": {},
   "source": [
    "## Description\n",
    "---\n",
    "Your friend is a professional nutritionist and is overwhelmed with the number of requests for custom meal plans she receives via her website. You tell her how proficient you are in Python now and that it would be easy for you to code up a meal plan calculator to provide quick estimates. Well, your friend took you up on your offer."
   ]
  },
  {
   "cell_type": "markdown",
   "metadata": {},
   "source": [
    "## 1. Calorie Calculation\n",
    "a) Write a Python function `calculate_calories` that takes:\n",
    "\n",
    "- age: the age of the client in years\n",
    "- weight: the weight of the client in kilograms\n",
    "- height: the height of the client in centimeters\n",
    "- gender: the gender of the client, either 'male' or 'female'\n",
    "\n",
    "The function should return the Basal Metabolic Rate (BMR) using the Mifflin-St Jeor Equation:\n",
    "\n",
    "For men:\n",
    "\n",
    "$BMR = 10 * weight + 6.25 * height - 5 * age + 5$\n",
    "\n",
    "For women:\n",
    "\n",
    "$BMR = 10 * weight + 6.25 * height - 5 * age - 161$\n",
    "\n",
    "Task: Provide the function, including typing hints for the parameters and return type. Show the result for a female client who is 30 years old, weighs 70 kg, and is 175 cm tall."
   ]
  },
  {
   "cell_type": "code",
   "execution_count": 96,
   "metadata": {},
   "outputs": [
    {
     "data": {
      "text/plain": [
       "1482.75"
      ]
     },
     "execution_count": 96,
     "metadata": {},
     "output_type": "execute_result"
    }
   ],
   "source": [
    "# Define the function with hints for the parameters and return type\n",
    "def calculate_calories(age:int, weight:int, height:int, gender:str) -> float:\n",
    "    \n",
    "    # Calculate and return BMR either for male or female\n",
    "    try: \n",
    "        if gender == 'male':\n",
    "            bmr = 10*weight + 6.25*height - 5*age + 5\n",
    "            return bmr\n",
    "        elif gender == 'female':\n",
    "            bmr = 10*weight + 6.25*height - 5*age - 161\n",
    "            return bmr\n",
    "        else:\n",
    "            print(\"you enter the wrong gender input: only type either 'male' or 'female'\")\n",
    "    \n",
    "    # if face error, indicate the user how to fix\n",
    "    except (TypeError, ValueError) as error:\n",
    "        print (\"You should enter int, int, int, string, corresponding to age, weight, height, and gender\")\n",
    "\n",
    "# Check and show result of the function with \"a female client who is 30 years old, weighs 70 kg, and is 175 cm tall\"\n",
    "calculate_calories(30, 70, 175,'female')"
   ]
  },
  {
   "cell_type": "markdown",
   "metadata": {},
   "source": [
    "b) Write another function `adjust_calories` that takes the BMR from `calculate_calories` and an optional `goal` parameter which can be `'lose'`, `'maintain'`, or `'gain'` (default is `'maintain'`). The function adjusts the calories:\n",
    "\n",
    "- 'lose': subtract 500 calories\n",
    "- 'maintain': no change\n",
    "- 'gain': add 500 calories\n",
    "\n",
    "Task:  Provide the function, including typing hints for the parameters and return type. Show the result for a client needing 1500 calories per day with the goal to gain weight."
   ]
  },
  {
   "cell_type": "code",
   "execution_count": 97,
   "metadata": {},
   "outputs": [
    {
     "data": {
      "text/plain": [
       "2000.0"
      ]
     },
     "execution_count": 97,
     "metadata": {},
     "output_type": "execute_result"
    }
   ],
   "source": [
    "# Define the function\n",
    "def adjust_calories(bmr:float, goal:str = 'maintain') -> float :\n",
    "    # Check data type of bmr\n",
    "    if not isinstance(bmr, float):\n",
    "        raise TypeError(\"age must be an integer\")\n",
    "    #Check data type of goal\n",
    "    if goal not in ['lose', 'maintain', 'gain']:\n",
    "        raise ValueError(\"Invalid goal input: only 'lose', 'maintian', or 'gain' are accepted\")\n",
    "    \n",
    "    # change or not change calories\n",
    "    if goal == 'lose':\n",
    "        bmr -= 500\n",
    "        return bmr\n",
    "    elif goal == 'maintain':\n",
    "        return bmr\n",
    "    elif goal == 'gain':\n",
    "        bmr += 500\n",
    "        return bmr\n",
    "    else:\n",
    "        pass\n",
    "\n",
    "# Check and show result of the function with \"a client needing 1500 calories per day with the goal to gain weight.\"\n",
    "adjust_calories(1500.0, 'gain')"
   ]
  },
  {
   "cell_type": "markdown",
   "metadata": {},
   "source": [
    "c) Combine the two functions into a single `meal_plan_calculator` function that takes `age`, `weight`, `height`, `gender`, and an optional `goal` parameter. It should return a dictionary with the following keys:\n",
    "\n",
    "- age: the age of the client\n",
    "- weight: the weight of the client\n",
    "- height: the height of the client\n",
    "- gender: the gender of the client\n",
    "- goal: the dietary goal\n",
    "- bmr: the Basal Metabolic Rate\n",
    "- adjusted_calories: the adjusted calorie requirement\n",
    "\n",
    "Task: Show the completed function and its ouptut for a female client who is 40 years old, weighs 60 kg, is 170 cm tall, and wants to maintain her weight."
   ]
  },
  {
   "cell_type": "code",
   "execution_count": 91,
   "metadata": {},
   "outputs": [
    {
     "name": "stdout",
     "output_type": "stream",
     "text": [
      "Final meal plan: {'age': 40, 'weight': 60, 'height': 170, 'gender': 'female', 'goal': 'maintain', 'bmr': 1301.5, 'adjusted_calories': 1301.5}\n"
     ]
    }
   ],
   "source": [
    "# Define the function\n",
    "def meal_plan_calculator(age:int, weight:int, height:int, gender:str, goal:str = 'maintain') -> dict:\n",
    "    \n",
    "    # Create a loop to Check typeError for integer input\n",
    "    intInput = {'age': age, 'weight': weight, 'height': height}\n",
    "    for intInput_name, intInput_value in intInput.items():\n",
    "        if not isinstance(intInput_value, int):\n",
    "            raise TypeError(f\"{intInput_name} must be an integer\")\n",
    "\n",
    "    # Check ValueError for gender\n",
    "    if gender not in ['male', 'female']:\n",
    "        raise ValueError(\"Invalid gender input: only 'male' or 'female' are accepted\")\n",
    "    # Check typeError for goal\n",
    "    if goal not in ['lose', 'maintain', 'gain']:\n",
    "        raise ValueError(\"Invalid goal input: only 'lose', 'maintian', or 'gain' are accepted\")\n",
    "    \n",
    "    # Create dictionary using existing functions\n",
    "    client_bmr = calculate_calories(age, weight, height, gender)\n",
    "    dictionary = {\n",
    "        'age': age,\n",
    "        'weight': weight,\n",
    "        'height': height,\n",
    "        'gender': gender,\n",
    "        'goal': goal,\n",
    "        'bmr': client_bmr,\n",
    "        'adjusted_calories': adjust_calories(client_bmr, goal)\n",
    "    }\n",
    "    return dictionary\n",
    "\n",
    "# Check and show result of the function with \"a female client who is 40 years old, weighs 60 kg, is 170 cm tall, and wants to maintain her weight.\"\n",
    "print('Final meal plan:', meal_plan_calculator(40, 60, 170, 'female'))"
   ]
  },
  {
   "cell_type": "markdown",
   "metadata": {},
   "source": [
    "#### 2. Error Handling\n",
    "\n",
    "a) Ensure the `meal_plan_calculator` function only accepts:\n",
    "\n",
    "- Positive numeric values for `age`, `weight`, and `height`\n",
    "- Genders `'male'` or `'female'`\n",
    "- Goals `'lose'`, `'maintain'`, or `'gain'`\n",
    "\n",
    "Add assertions to handle incorrect input values. \n",
    "\n",
    "Task: Show the result for a client with a negative height."
   ]
  },
  {
   "cell_type": "code",
   "execution_count": 90,
   "metadata": {},
   "outputs": [
    {
     "ename": "AssertionError",
     "evalue": "Height must be a positive integer",
     "output_type": "error",
     "traceback": [
      "\u001b[1;31m---------------------------------------------------------------------------\u001b[0m",
      "\u001b[1;31mAssertionError\u001b[0m                            Traceback (most recent call last)",
      "Cell \u001b[1;32mIn[90], line 24\u001b[0m\n\u001b[0;32m     21\u001b[0m     \u001b[38;5;28;01mreturn\u001b[39;00m dictionary\n\u001b[0;32m     23\u001b[0m \u001b[38;5;66;03m# Show the result for a client with a negative height\u001b[39;00m\n\u001b[1;32m---> 24\u001b[0m \u001b[38;5;28mprint\u001b[39m(\u001b[38;5;124m'\u001b[39m\u001b[38;5;124mFinal meal plan:\u001b[39m\u001b[38;5;124m'\u001b[39m, \u001b[43mmeal_plan_calculator\u001b[49m\u001b[43m(\u001b[49m\u001b[38;5;241;43m40\u001b[39;49m\u001b[43m,\u001b[49m\u001b[43m \u001b[49m\u001b[38;5;241;43m60\u001b[39;49m\u001b[43m,\u001b[49m\u001b[43m \u001b[49m\u001b[38;5;241;43m-\u001b[39;49m\u001b[38;5;241;43m170\u001b[39;49m\u001b[43m,\u001b[49m\u001b[43m \u001b[49m\u001b[38;5;124;43m'\u001b[39;49m\u001b[38;5;124;43mfemale\u001b[39;49m\u001b[38;5;124;43m'\u001b[39;49m\u001b[43m)\u001b[49m)\n",
      "Cell \u001b[1;32mIn[90], line 6\u001b[0m, in \u001b[0;36mmeal_plan_calculator\u001b[1;34m(age, weight, height, gender, goal)\u001b[0m\n\u001b[0;32m      4\u001b[0m \u001b[38;5;28;01massert\u001b[39;00m age \u001b[38;5;241m>\u001b[39m \u001b[38;5;241m0\u001b[39m, \u001b[38;5;124m\"\u001b[39m\u001b[38;5;124mAge must be a positive integer\u001b[39m\u001b[38;5;124m\"\u001b[39m\n\u001b[0;32m      5\u001b[0m \u001b[38;5;28;01massert\u001b[39;00m weight \u001b[38;5;241m>\u001b[39m \u001b[38;5;241m0\u001b[39m, \u001b[38;5;124m\"\u001b[39m\u001b[38;5;124mWeight must be a positive integer\u001b[39m\u001b[38;5;124m\"\u001b[39m\n\u001b[1;32m----> 6\u001b[0m \u001b[38;5;28;01massert\u001b[39;00m height \u001b[38;5;241m>\u001b[39m \u001b[38;5;241m0\u001b[39m, \u001b[38;5;124m\"\u001b[39m\u001b[38;5;124mHeight must be a positive integer\u001b[39m\u001b[38;5;124m\"\u001b[39m\n\u001b[0;32m      7\u001b[0m \u001b[38;5;28;01massert\u001b[39;00m gender \u001b[38;5;129;01min\u001b[39;00m [\u001b[38;5;124m'\u001b[39m\u001b[38;5;124mmale\u001b[39m\u001b[38;5;124m'\u001b[39m, \u001b[38;5;124m'\u001b[39m\u001b[38;5;124mfemale\u001b[39m\u001b[38;5;124m'\u001b[39m], \u001b[38;5;124m\"\u001b[39m\u001b[38;5;124mGender must be \u001b[39m\u001b[38;5;124m'\u001b[39m\u001b[38;5;124mmale\u001b[39m\u001b[38;5;124m'\u001b[39m\u001b[38;5;124m or \u001b[39m\u001b[38;5;124m'\u001b[39m\u001b[38;5;124mfemale\u001b[39m\u001b[38;5;124m'\u001b[39m\u001b[38;5;124m\"\u001b[39m\n\u001b[0;32m      8\u001b[0m \u001b[38;5;28;01massert\u001b[39;00m goal \u001b[38;5;129;01min\u001b[39;00m [\u001b[38;5;124m'\u001b[39m\u001b[38;5;124mlose\u001b[39m\u001b[38;5;124m'\u001b[39m, \u001b[38;5;124m'\u001b[39m\u001b[38;5;124mmaintain\u001b[39m\u001b[38;5;124m'\u001b[39m, \u001b[38;5;124m'\u001b[39m\u001b[38;5;124mgain\u001b[39m\u001b[38;5;124m'\u001b[39m], \u001b[38;5;124m\"\u001b[39m\u001b[38;5;124mGoal must be \u001b[39m\u001b[38;5;124m'\u001b[39m\u001b[38;5;124mlose\u001b[39m\u001b[38;5;124m'\u001b[39m\u001b[38;5;124m, \u001b[39m\u001b[38;5;124m'\u001b[39m\u001b[38;5;124mmaintain\u001b[39m\u001b[38;5;124m'\u001b[39m\u001b[38;5;124m, or \u001b[39m\u001b[38;5;124m'\u001b[39m\u001b[38;5;124mgain\u001b[39m\u001b[38;5;124m'\u001b[39m\u001b[38;5;124m\"\u001b[39m\n",
      "\u001b[1;31mAssertionError\u001b[0m: Height must be a positive integer"
     ]
    }
   ],
   "source": [
    "# Define the function\n",
    "def meal_plan_calculator(age:int, weight:int, height:int, gender:str, goal:str = 'maintain') -> dict:\n",
    "    # Assertions to check the input values\n",
    "    assert age > 0, \"Age must be a positive integer\"\n",
    "    assert weight > 0, \"Weight must be a positive integer\"\n",
    "    assert height > 0, \"Height must be a positive integer\"\n",
    "    assert gender in ['male', 'female'], \"Gender must be 'male' or 'female'\"\n",
    "    assert goal in ['lose', 'maintain', 'gain'], \"Goal must be 'lose', 'maintain', or 'gain'\"\n",
    "\n",
    "    # Create dictionary using existing functions\n",
    "    client_bmr = calculate_calories(age, weight, height, gender)\n",
    "    dictionary = {\n",
    "        'age': age,\n",
    "        'weight': weight,\n",
    "        'height': height,\n",
    "        'gender': gender,\n",
    "        'goal': goal,\n",
    "        'bmr': client_bmr,\n",
    "        'adjusted_calories': adjust_calories(client_bmr, goal)\n",
    "    }\n",
    "    return dictionary\n",
    "\n",
    "# Show the result for a client with a negative height\n",
    "print('Final meal plan:', meal_plan_calculator(40, 60, -170, 'female'))"
   ]
  },
  {
   "cell_type": "markdown",
   "metadata": {},
   "source": [
    "b) Replace assertions with a `try`-`except` block to catch all errors and print: `Please check your input values.` \n",
    "\n",
    "Task: Show the result for an unrecognized goal `'bulk'`."
   ]
  },
  {
   "cell_type": "code",
   "execution_count": 92,
   "metadata": {},
   "outputs": [
    {
     "name": "stdout",
     "output_type": "stream",
     "text": [
      "Please check your input values.\n",
      "Error source: Goal must be 'lose', 'maintain', or 'gain'\n"
     ]
    }
   ],
   "source": [
    "def meal_plan_calculator(age: int, weight: int, height: int, gender: str, goal: str = 'maintain') -> dict:\n",
    "    # If there is no error\n",
    "    try:\n",
    "        # Check inputs for positive values\n",
    "        if age <= 0 or weight <= 0 or height <= 0:\n",
    "            raise ValueError(\"Age, weight, and height must be positive integers\")\n",
    "        if gender not in ['male', 'female']:\n",
    "            raise ValueError(\"Gender must be 'male' or 'female'\")\n",
    "        if goal not in ['lose', 'maintain', 'gain']:\n",
    "            raise ValueError(\"Goal must be 'lose', 'maintain', or 'gain'\")\n",
    "\n",
    "        # Create dictionary using existing functions\n",
    "        client_bmr = calculate_calories(age, weight, height, gender)\n",
    "        return {\n",
    "            'age': age,\n",
    "            'weight': weight,\n",
    "            'height': height,\n",
    "            'gender': gender,\n",
    "            'goal': goal,\n",
    "            'bmr': client_bmr,\n",
    "            'adjusted_calories': adjust_calories(client_bmr, goal)\n",
    "        }\n",
    "    # Show error if there is any\n",
    "    except Exception as e:\n",
    "        print('Please check your input values.')\n",
    "        print('Error source:', e)\n",
    "\n",
    "# Show the result for an unrecognized goal 'bulk'.\n",
    "meal_plan_calculator(40, 60, 170, 'female', 'bulk')"
   ]
  },
  {
   "cell_type": "markdown",
   "metadata": {},
   "source": [
    "#### 3. Macronutrient Breakdown\n",
    "\n",
    "a) Add a `calculate_macros` function that takes the adjusted calories and returns a dictionary with grams of proteins, fats, and carbohydrates per day:\n",
    "\n",
    "- Proteins: 30% of total calories, 4 calories per gram\n",
    "- Fats: 25% of total calories, 9 calories per gram\n",
    "- Carbohydrates: 45% of total calories, 4 calories per gram\n",
    "\n",
    "Incorporate this into `meal_plan_calculator` and show the result:\n",
    "\n",
    "```\n",
    "Macronutrient Breakdown (grams per day):\n",
    "Proteins: Xg\n",
    "Fats: Xg\n",
    "Carbohydrates: Xg\n",
    "```\n",
    "\n",
    "Example: Show the result for a female client who is 35 years old, weighs 65 kg, is 160 cm tall, and wants to maintain her weight."
   ]
  },
  {
   "cell_type": "code",
   "execution_count": 118,
   "metadata": {},
   "outputs": [],
   "source": [
    "def calculate_macros(calories: float):\n",
    "    # Check data type of adjusted calories\n",
    "    if not isinstance(calories, float):\n",
    "        raise TypeError(\"adjusted calories must be a float\")\n",
    "    \n",
    "    # Define formulas for proteins, fats, and carbohydrayes, in terms of grams\n",
    "    proteins = 0.30 * calories / 4\n",
    "    fats = 0.25 * calories / 9\n",
    "    carboHy = 0.45 * calories / 4\n",
    "    \n",
    "    return {\n",
    "            'proteins': proteins,\n",
    "            'fats': fats,\n",
    "            'carbohydrates': carboHy\n",
    "        }"
   ]
  },
  {
   "cell_type": "code",
   "execution_count": 119,
   "metadata": {},
   "outputs": [],
   "source": [
    "# define the function\n",
    "def meal_plan_calculator(age: int, weight: int, height: int, gender: str, goal: str = 'maintain') -> dict:\n",
    "    # If there is no error\n",
    "    try:\n",
    "        # Check inputs for positive values\n",
    "        if age <= 0 or weight <= 0 or height <= 0:\n",
    "            raise ValueError(\"Age, weight, and height must be positive integers\")\n",
    "        if gender not in ['male', 'female']:\n",
    "            raise ValueError(\"Gender must be 'male' or 'female'\")\n",
    "        if goal not in ['lose', 'maintain', 'gain']:\n",
    "            raise ValueError(\"Goal must be 'lose', 'maintain', or 'gain'\")\n",
    "\n",
    "        # Create dictionary using existing functions\n",
    "        client_bmr = calculate_calories(age, weight, height, gender)\n",
    "        calories_new = adjust_calories(client_bmr, goal)\n",
    "\n",
    "        return {\n",
    "            'age': age,\n",
    "            'weight': weight,\n",
    "            'height': height,\n",
    "            'gender': gender,\n",
    "            'goal': goal,\n",
    "            'bmr': client_bmr,\n",
    "            'adjusted_calories': calories_new,\n",
    "            # add new lines in dictionary to show Macronutrient Breakdown\n",
    "            'macro_breakdown': calculate_macros(calories_new)\n",
    "        }\n",
    "    # Show error if there is any\n",
    "    except Exception as e:\n",
    "        print('Please check your input values.')\n",
    "        print('Error source:', e)"
   ]
  },
  {
   "cell_type": "code",
   "execution_count": 121,
   "metadata": {},
   "outputs": [
    {
     "name": "stdout",
     "output_type": "stream",
     "text": [
      "Age: 35\n",
      "Weight: 65 kg\n",
      "Height: 160 cm\n",
      "Gender: female\n",
      "Goal: maintain\n",
      "BMR: 1314.00 cals/day\n",
      "Adjusted Calories: 1314.00 cals/day\n",
      "Macronutrient Breakdown (grams per day):\n",
      "proteins: 98.55g\n",
      "fats: 36.50g\n",
      "carbohydrates: 147.83g\n"
     ]
    }
   ],
   "source": [
    "# Sadly, function above only returns dictionary, not the same as the format provided in question.\n",
    "# So we need to format the dictionary and print it out in a cleanner format\n",
    "\n",
    "# define a function to assist my formatting & printing\n",
    "def print_meal_plan(plan):\n",
    "    # Details to print before the breakdown\n",
    "    details = [\n",
    "        (\"Age\", f\"{plan['age']}\"),\n",
    "        (\"Weight\", f\"{plan['weight']} kg\"),\n",
    "        (\"Height\", f\"{plan['height']} cm\"),\n",
    "        (\"Gender\", plan['gender']),\n",
    "        (\"Goal\", plan['goal']),\n",
    "        (\"BMR\", f\"{plan['bmr']:.2f} cals/day\"),\n",
    "        (\"Adjusted Calories\", f\"{plan['adjusted_calories']:.2f} cals/day\")\n",
    "    ]\n",
    "    \n",
    "    # Print client info with NO macros\n",
    "    for label, value in details:\n",
    "        print(f\"{label}: {value}\")\n",
    "    \n",
    "    # Print the macronutrient breakdown\n",
    "    print(\"Macronutrient Breakdown (grams per day):\")\n",
    "    macro_breakdown = plan['macro_breakdown']\n",
    "    for nutrient, grams in macro_breakdown.items():\n",
    "        print(f\"{nutrient}: {grams:.2f}g\")\n",
    "\n",
    "# use the function and print client's data\n",
    "client_plan = meal_plan_calculator(35, 65, 160, 'female')\n",
    "print_meal_plan(client_plan)"
   ]
  },
  {
   "cell_type": "markdown",
   "metadata": {},
   "source": [
    "#### 4. Advanced Data Manipulation\n",
    "\n",
    "a) Write a separate function `batch_calculator` that takes a list of client data (where each client is represented as a dictionary) and returns a list of summaries for all clients.\n",
    "\n",
    "Example: Show the result for the following list of clients:\n",
    "\n",
    "```python\n",
    "clients = [\n",
    "    {\"age\": 30, \"weight\": 70.0, \"height\": 175.0, \"gender\": \"female\", \"goal\": \"maintain\"},\n",
    "    {\"age\": 40, \"weight\": 80.0, \"height\": 180.0, \"gender\": \"male\", \"goal\": \"lose\"},\n",
    "    {\"age\": 50, \"weight\": 90.0, \"height\": 185.0, \"gender\": \"female\", \"goal\": \"gain\"},\n",
    "    {\"age\": 60, \"weight\": 100.0, \"height\": 190.0, \"gender\": \"male\", \"goal\": \"maintain\"},\n",
    "]\n",
    "```"
   ]
  },
  {
   "cell_type": "code",
   "execution_count": 126,
   "metadata": {},
   "outputs": [],
   "source": [
    "# define function\n",
    "def batch_calculator(clients):\n",
    "    # Create a List to store summary dictionaries for each client\n",
    "    summaries = []\n",
    "    # Store summary\n",
    "    for client in clients:\n",
    "        try:\n",
    "            age = client['age']\n",
    "            weight = client['weight']\n",
    "            height = client['height']\n",
    "            gender = client['gender']\n",
    "            goal = client['goal']\n",
    "\n",
    "            # Calculate the meal plan using existing functions\n",
    "            summary = meal_plan_calculator(age, weight, height, gender, goal)\n",
    "            summaries.append(summary)\n",
    "            \n",
    "        except Exception as e:\n",
    "            print(f\"Error: {e}\")\n",
    "            summaries.append({'error': str(e)})\n",
    "\n",
    "    return summaries"
   ]
  },
  {
   "cell_type": "code",
   "execution_count": 128,
   "metadata": {},
   "outputs": [
    {
     "name": "stdout",
     "output_type": "stream",
     "text": [
      "Age: 30\n",
      "Weight: 70.0 kg\n",
      "Height: 175.0 cm\n",
      "Gender: female\n",
      "Goal: maintain\n",
      "BMR: 1482.75 cals/day\n",
      "Adjusted Calories: 1482.75 cals/day\n",
      "Macronutrient Breakdown (grams per day):\n",
      "proteins: 111.21g\n",
      "fats: 41.19g\n",
      "carbohydrates: 166.81g\n",
      "\n",
      "Age: 40\n",
      "Weight: 80.0 kg\n",
      "Height: 180.0 cm\n",
      "Gender: male\n",
      "Goal: lose\n",
      "BMR: 1730.00 cals/day\n",
      "Adjusted Calories: 1230.00 cals/day\n",
      "Macronutrient Breakdown (grams per day):\n",
      "proteins: 92.25g\n",
      "fats: 34.17g\n",
      "carbohydrates: 138.38g\n",
      "\n",
      "Age: 50\n",
      "Weight: 90.0 kg\n",
      "Height: 185.0 cm\n",
      "Gender: female\n",
      "Goal: gain\n",
      "BMR: 1645.25 cals/day\n",
      "Adjusted Calories: 2145.25 cals/day\n",
      "Macronutrient Breakdown (grams per day):\n",
      "proteins: 160.89g\n",
      "fats: 59.59g\n",
      "carbohydrates: 241.34g\n",
      "\n",
      "Age: 60\n",
      "Weight: 100.0 kg\n",
      "Height: 190.0 cm\n",
      "Gender: male\n",
      "Goal: maintain\n",
      "BMR: 1892.50 cals/day\n",
      "Adjusted Calories: 1892.50 cals/day\n",
      "Macronutrient Breakdown (grams per day):\n",
      "proteins: 141.94g\n",
      "fats: 52.57g\n",
      "carbohydrates: 212.91g\n",
      "\n"
     ]
    }
   ],
   "source": [
    "# Process the data using the function above\n",
    "\n",
    "# Define client data\n",
    "clients = [\n",
    "    {\"age\": 30, \"weight\": 70.0, \"height\": 175.0, \"gender\": \"female\", \"goal\": \"maintain\"},\n",
    "    {\"age\": 40, \"weight\": 80.0, \"height\": 180.0, \"gender\": \"male\", \"goal\": \"lose\"},\n",
    "    {\"age\": 50, \"weight\": 90.0, \"height\": 185.0, \"gender\": \"female\", \"goal\": \"gain\"},\n",
    "    {\"age\": 60, \"weight\": 100.0, \"height\": 190.0, \"gender\": \"male\", \"goal\": \"maintain\"},\n",
    "]\n",
    "\n",
    "# Calculate and print summaries for each client\n",
    "client_summaries = batch_calculator(clients)\n",
    "for summary in client_summaries:\n",
    "    if 'error' not in summary:\n",
    "        print_meal_plan(summary)  \n",
    "        print()  # Add an empty line between summaries\n",
    "    else:\n",
    "        print(summary['error'])\n",
    "        print()  # Adds an empty line for consistent spacing"
   ]
  }
 ],
 "metadata": {
  "kernelspec": {
   "display_name": "chau-fung-WJX9sVHg-py3.12",
   "language": "python",
   "name": "python3"
  },
  "language_info": {
   "codemirror_mode": {
    "name": "ipython",
    "version": 3
   },
   "file_extension": ".py",
   "mimetype": "text/x-python",
   "name": "python",
   "nbconvert_exporter": "python",
   "pygments_lexer": "ipython3",
   "version": "3.12.5"
  }
 },
 "nbformat": 4,
 "nbformat_minor": 2
}
